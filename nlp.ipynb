{
  "nbformat": 4,
  "nbformat_minor": 0,
  "metadata": {
    "kernelspec": {
      "display_name": "Python 3",
      "language": "python",
      "name": "python3"
    },
    "language_info": {
      "codemirror_mode": {
        "name": "ipython",
        "version": 3
      },
      "file_extension": ".py",
      "mimetype": "text/x-python",
      "name": "python",
      "nbconvert_exporter": "python",
      "pygments_lexer": "ipython3",
      "version": "3.7.1"
    },
    "colab": {
      "name": "nlp.ipynb",
      "provenance": [],
      "include_colab_link": true
    }
  },
  "cells": [
    {
      "cell_type": "markdown",
      "metadata": {
        "id": "view-in-github",
        "colab_type": "text"
      },
      "source": [
        "<a href=\"https://colab.research.google.com/github/hsnam95/class2021Fall/blob/main/nlp.ipynb\" target=\"_parent\"><img src=\"https://colab.research.google.com/assets/colab-badge.svg\" alt=\"Open In Colab\"/></a>"
      ]
    },
    {
      "cell_type": "code",
      "metadata": {
        "id": "3gqRoZl6ntcX"
      },
      "source": [
        "import nltk, os"
      ],
      "execution_count": 1,
      "outputs": []
    },
    {
      "cell_type": "code",
      "metadata": {
        "id": "tbHEyyNHntcZ"
      },
      "source": [
        "s = 'a man in the house' # untokenized string\n",
        "t = ['a', 'man', 'in', 'the', 'house'] # tokenized seqeuence of words as a list"
      ],
      "execution_count": 2,
      "outputs": []
    },
    {
      "cell_type": "code",
      "metadata": {
        "id": "E1CtLFV9ntca",
        "outputId": "35c2002c-94da-4cda-a202-5b7ad4821d26",
        "colab": {
          "base_uri": "https://localhost:8080/"
        }
      },
      "source": [
        "a = nltk.Text(t)\n",
        "a"
      ],
      "execution_count": 3,
      "outputs": [
        {
          "output_type": "execute_result",
          "data": {
            "text/plain": [
              "<Text: a man in the house...>"
            ]
          },
          "metadata": {},
          "execution_count": 3
        }
      ]
    },
    {
      "cell_type": "code",
      "metadata": {
        "id": "Gq_lPZMHntcb",
        "outputId": "db7e0ffd-90ba-45f0-b4f4-7856231017f3",
        "colab": {
          "base_uri": "https://localhost:8080/"
        }
      },
      "source": [
        "nltk.Text(s.split())"
      ],
      "execution_count": 4,
      "outputs": [
        {
          "output_type": "execute_result",
          "data": {
            "text/plain": [
              "<Text: a man in the house...>"
            ]
          },
          "metadata": {},
          "execution_count": 4
        }
      ]
    },
    {
      "cell_type": "code",
      "metadata": {
        "id": "133T4Qqkntcb"
      },
      "source": [
        "raw = open(os.getcwd()+r'/06_01.txt', encoding = 'utf8').read()"
      ],
      "execution_count": 5,
      "outputs": []
    },
    {
      "cell_type": "code",
      "metadata": {
        "id": "Ia-UHHBZntcb",
        "outputId": "58e9f653-a5f6-4273-a3af-8cf02b1c756c",
        "colab": {
          "base_uri": "https://localhost:8080/"
        }
      },
      "source": [
        "print(type(raw))\n",
        "print(len(raw))\n",
        "print(raw[:75])"
      ],
      "execution_count": 6,
      "outputs": [
        {
          "output_type": "stream",
          "name": "stdout",
          "text": [
            "<class 'str'>\n",
            "1154507\n",
            "The Project Gutenberg EBook of Crime and Punishment, by Fyodor Dostoevsky\n",
            "\n",
            "\n"
          ]
        }
      ]
    },
    {
      "cell_type": "code",
      "metadata": {
        "id": "WwFH5Y9zntcc",
        "outputId": "ef1c12c6-1da9-4486-dae5-8eb0027b178e",
        "colab": {
          "base_uri": "https://localhost:8080/"
        }
      },
      "source": [
        "nltk.download('punkt')\n",
        "tokens = nltk.word_tokenize(raw)\n",
        "print(type(tokens))\n",
        "print(len(tokens))\n",
        "print(tokens[:10])"
      ],
      "execution_count": 8,
      "outputs": [
        {
          "output_type": "stream",
          "name": "stdout",
          "text": [
            "[nltk_data] Downloading package punkt to /root/nltk_data...\n",
            "[nltk_data]   Unzipping tokenizers/punkt.zip.\n",
            "<class 'list'>\n",
            "257726\n",
            "['The', 'Project', 'Gutenberg', 'EBook', 'of', 'Crime', 'and', 'Punishment', ',', 'by']\n"
          ]
        }
      ]
    },
    {
      "cell_type": "code",
      "metadata": {
        "id": "WdM2FaN8ntcc",
        "outputId": "116a46bc-bfea-4fb2-bbfb-4a9ae13340ae",
        "colab": {
          "base_uri": "https://localhost:8080/"
        }
      },
      "source": [
        "nltk.download('stopwords')\n",
        "text = nltk.Text(tokens)\n",
        "print(type(text))\n",
        "print(text[:10])\n",
        "text.collocations()\n"
      ],
      "execution_count": 10,
      "outputs": [
        {
          "output_type": "stream",
          "name": "stdout",
          "text": [
            "[nltk_data] Downloading package stopwords to /root/nltk_data...\n",
            "[nltk_data]   Unzipping corpora/stopwords.zip.\n",
            "<class 'nltk.text.Text'>\n",
            "['The', 'Project', 'Gutenberg', 'EBook', 'of', 'Crime', 'and', 'Punishment', ',', 'by']\n",
            "Katerina Ivanovna; Pyotr Petrovitch; Pulcheria Alexandrovna; Avdotya\n",
            "Romanovna; Rodion Romanovitch; Marfa Petrovna; Sofya Semyonovna; old\n",
            "woman; Project Gutenberg-tm; Porfiry Petrovitch; Amalia Ivanovna;\n",
            "great deal; young man; Nikodim Fomitch; Ilya Petrovitch; Project\n",
            "Gutenberg; Andrey Semyonovitch; Hay Market; Dmitri Prokofitch; Good\n",
            "heavens\n"
          ]
        }
      ]
    },
    {
      "cell_type": "code",
      "metadata": {
        "id": "-zJmDYZCntcc",
        "outputId": "dbe05084-9734-4cc2-bac9-83830a466174",
        "colab": {
          "base_uri": "https://localhost:8080/"
        }
      },
      "source": [
        "text.concordance('great', 79, 25)"
      ],
      "execution_count": 11,
      "outputs": [
        {
          "output_type": "stream",
          "name": "stdout",
          "text": [
            "Displaying 25 of 162 matches:\n",
            "and were more frequent in periods of great strain . In 1859 he was allowed to r\n",
            "ndency and of late she had read with great interest a book she got through Mr. \n",
            " the bosom of her family ... . And a great deal more ... . Quite excusable , si\n",
            "that you had heard that Dounia had a great deal to put up with in the Svidrigra\n",
            "g will she has . Dounia can endure a great deal and even in the most difficult \n",
            " that letter she reproached him with great heat and indignation for the basenes\n",
            "putation ; they had seen and known a great deal more than Mr. Svidrigailov had \n",
            "n other people ’ s . In my opinion a great deal , a very great deal of all this\n",
            " In my opinion a great deal , a very great deal of all this was unnecessary ; b\n",
            " . He is a very busy man and is in a great hurry to get to Petersburg , so that\n",
            " me that , though he is not a man of great education , he is clever and seems t\n",
            " very well . Of course , there is no great love either on his side , or on hers\n",
            "tted the matter has been arranged in great haste . Besides he is a man of great\n",
            "great haste . Besides he is a man of great prudence and he will see , to be sur\n",
            "d that she is ready to put up with a great deal , if only their future relation\n",
            " off for Petersburg , where he has a great deal of business , and he wants to o\n",
            "a or I breathed a word to him of the great hopes we have of his helping us to p\n",
            "ites that ‘ Dounia can put up with a great deal. ’ I know that very well . I kn\n",
            "at , that ‘ Dounia can put up with a great deal. ’ If she could put up with Mr.\n",
            "it , she certainly can put up with a great deal . And now mother and she have t\n",
            "e young , and she was walking in the great heat bareheaded and with no parasol \n",
            "f the skirt , close to the waist : a great piece was rent and hanging loose . A\n",
            "ts or conversations . He worked with great intensity without sparing himself , \n",
            " uproarious and was reputed to be of great physical strength . One night , when\n",
            ". His legs felt suddenly heavy and a great drowsiness came upon him . He turned\n"
          ]
        }
      ]
    },
    {
      "cell_type": "code",
      "metadata": {
        "id": "BhNfOHZvntcd",
        "outputId": "45997a21-a7f2-4ffd-ad6f-7829c7dd3d2d",
        "colab": {
          "base_uri": "https://localhost:8080/"
        }
      },
      "source": [
        "nltk.download('gutenberg')\n",
        "raw = nltk.corpus.gutenberg.raw('melville-moby_dick.txt')\n",
        "fdist = nltk.FreqDist(raw)\n",
        "print(fdist.most_common(5))\n",
        "\n",
        "fdist = nltk.FreqDist(ch.lower() for ch in raw if ch.isalpha())\n",
        "print(fdist.most_common(5))\n",
        "[char for (char, count) in fdist.most_common(5)]"
      ],
      "execution_count": 13,
      "outputs": [
        {
          "output_type": "stream",
          "name": "stdout",
          "text": [
            "[nltk_data] Downloading package gutenberg to /root/nltk_data...\n",
            "[nltk_data]   Unzipping corpora/gutenberg.zip.\n",
            "[(' ', 198098), ('e', 115855), ('t', 85539), ('a', 75266), ('o', 68338)]\n",
            "[('e', 117092), ('t', 87996), ('a', 77916), ('o', 69326), ('n', 65617)]\n"
          ]
        },
        {
          "output_type": "execute_result",
          "data": {
            "text/plain": [
              "['e', 't', 'a', 'o', 'n']"
            ]
          },
          "metadata": {},
          "execution_count": 13
        }
      ]
    },
    {
      "cell_type": "code",
      "metadata": {
        "id": "UIcAOAvqntce",
        "outputId": "cee22c50-9874-4fd9-fcf7-8d36a0608827",
        "colab": {
          "base_uri": "https://localhost:8080/"
        }
      },
      "source": [
        "nltk.download('words')\n",
        "nltk.corpus.words.words('en')[-20:-1]\n"
      ],
      "execution_count": 15,
      "outputs": [
        {
          "output_type": "stream",
          "name": "stdout",
          "text": [
            "[nltk_data] Downloading package words to /root/nltk_data...\n",
            "[nltk_data]   Unzipping corpora/words.zip.\n"
          ]
        },
        {
          "output_type": "execute_result",
          "data": {
            "text/plain": [
              "['zymosis',\n",
              " 'zymosterol',\n",
              " 'zymosthenic',\n",
              " 'zymotechnic',\n",
              " 'zymotechnical',\n",
              " 'zymotechnics',\n",
              " 'zymotechny',\n",
              " 'zymotic',\n",
              " 'zymotically',\n",
              " 'zymotize',\n",
              " 'zymotoxic',\n",
              " 'zymurgy',\n",
              " 'Zyrenian',\n",
              " 'Zyrian',\n",
              " 'Zyryan',\n",
              " 'zythem',\n",
              " 'Zythia',\n",
              " 'zythum',\n",
              " 'Zyzomys']"
            ]
          },
          "metadata": {},
          "execution_count": 15
        }
      ]
    },
    {
      "cell_type": "code",
      "metadata": {
        "id": "GjAy_Ju7ntce",
        "outputId": "83f2c52c-3556-4efe-b594-4351e50738dc",
        "colab": {
          "base_uri": "https://localhost:8080/"
        }
      },
      "source": [
        "len(nltk.corpus.words.words('en'))"
      ],
      "execution_count": 16,
      "outputs": [
        {
          "output_type": "execute_result",
          "data": {
            "text/plain": [
              "235886"
            ]
          },
          "metadata": {},
          "execution_count": 16
        }
      ]
    }
  ]
}