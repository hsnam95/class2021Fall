{
  "nbformat": 4,
  "nbformat_minor": 0,
  "metadata": {
    "kernelspec": {
      "display_name": "Python 3",
      "language": "python",
      "name": "python3"
    },
    "language_info": {
      "codemirror_mode": {
        "name": "ipython",
        "version": 3
      },
      "file_extension": ".py",
      "mimetype": "text/x-python",
      "name": "python",
      "nbconvert_exporter": "python",
      "pygments_lexer": "ipython3",
      "version": "3.7.1"
    },
    "colab": {
      "name": "numpy.ipynb",
      "provenance": [],
      "include_colab_link": true
    }
  },
  "cells": [
    {
      "cell_type": "markdown",
      "metadata": {
        "id": "view-in-github",
        "colab_type": "text"
      },
      "source": [
        "<a href=\"https://colab.research.google.com/github/hsnam95/class2021Fall/blob/main/numpy.ipynb\" target=\"_parent\"><img src=\"https://colab.research.google.com/assets/colab-badge.svg\" alt=\"Open In Colab\"/></a>"
      ]
    },
    {
      "cell_type": "markdown",
      "metadata": {
        "id": "e-2S1OhwShA_"
      },
      "source": [
        "# NumPy basics"
      ]
    },
    {
      "cell_type": "markdown",
      "metadata": {
        "id": "japnNanbShBA"
      },
      "source": [
        "## 1. Creation"
      ]
    },
    {
      "cell_type": "code",
      "metadata": {
        "id": "5ap7xyofShBB"
      },
      "source": [
        "import numpy as np\n",
        "import matplotlib.pyplot as plt"
      ],
      "execution_count": null,
      "outputs": []
    },
    {
      "cell_type": "code",
      "metadata": {
        "id": "EjC88C75ShBC",
        "outputId": "53d3d9dc-7f42-4f45-e0a6-2059df674aa9"
      },
      "source": [
        "np.arange(0,10,2, dtype='float64')"
      ],
      "execution_count": null,
      "outputs": [
        {
          "output_type": "execute_result",
          "data": {
            "text/plain": [
              "array([0., 2., 4., 6., 8.])"
            ]
          },
          "metadata": {
            "tags": []
          },
          "execution_count": 5
        }
      ]
    },
    {
      "cell_type": "code",
      "metadata": {
        "id": "-MwkCEjTShBC",
        "outputId": "b7abdade-1320-488c-e805-6a98cae8c125"
      },
      "source": [
        "np.linspace(0,10,6, dtype=float)"
      ],
      "execution_count": null,
      "outputs": [
        {
          "output_type": "execute_result",
          "data": {
            "text/plain": [
              "array([ 0.,  2.,  4.,  6.,  8., 10.])"
            ]
          },
          "metadata": {
            "tags": []
          },
          "execution_count": 6
        }
      ]
    },
    {
      "cell_type": "code",
      "metadata": {
        "id": "2rqpSPZCShBC",
        "outputId": "183fe1d0-6c67-4a64-ca21-1c5beb1f573c"
      },
      "source": [
        "X = np.array([[1,2,3],[4,5,6]])\n",
        "X"
      ],
      "execution_count": null,
      "outputs": [
        {
          "output_type": "execute_result",
          "data": {
            "text/plain": [
              "array([[1, 2, 3],\n",
              "       [4, 5, 6]])"
            ]
          },
          "metadata": {
            "tags": []
          },
          "execution_count": 7
        }
      ]
    },
    {
      "cell_type": "code",
      "metadata": {
        "id": "z1oOAB6dShBD",
        "outputId": "799a2917-1888-497f-bbc8-522c7a62415e"
      },
      "source": [
        "data = np.random.normal(0,1, 100)\n",
        "print(data)\n",
        "plt.hist(data, bins=10)\n",
        "plt.show()"
      ],
      "execution_count": null,
      "outputs": [
        {
          "output_type": "stream",
          "text": [
            "[-0.8398779  -0.66062864  1.30115222  0.50450206  0.95667305  0.60700552\n",
            " -1.01855037  0.95351948  0.08821886  0.99512932  0.41601486  0.60358232\n",
            " -1.38789209  0.29844135  0.57459243  0.22407801  0.88837517  1.17633349\n",
            "  0.56068165  2.05564786  1.08076566  0.31183736 -0.64344222  0.9709739\n",
            " -0.47544633 -1.70769647  1.00774162 -1.34928956 -1.6282407  -0.19706846\n",
            " -0.02835946 -1.5466965   0.26731914 -0.00338448 -0.54668531 -0.64565518\n",
            " -2.41783182 -1.09289534 -1.13593424 -1.35908579 -0.04977131  0.07063047\n",
            "  0.13563216 -0.57646697 -0.01080657 -0.16509508 -1.4860257   0.32366803\n",
            "  0.17495132  0.54037639 -0.45249398 -0.94513949  0.09107664 -0.09690239\n",
            "  0.04488749 -1.06009831 -0.3998957   1.33848238  0.66665498 -0.98073074\n",
            "  1.11223601 -0.1388641   0.38457044  0.59639466 -0.11875297  0.10574101\n",
            "  1.61805566  1.25025494 -0.87618395  0.83266569  1.59814316 -1.71705042\n",
            " -0.54227006 -1.11169427 -0.55534861  0.83079971 -1.13066581  0.39353686\n",
            "  1.48271714 -2.92470339  1.19285915 -0.03397218  1.7172698   1.67298858\n",
            " -2.23940405 -1.17391172 -0.97346826 -0.70007253  0.8866518   0.51946561\n",
            " -0.02202387 -0.37008492  0.66716361  0.87427593  0.18242455 -2.01162127\n",
            "  1.07647129  0.00683464  1.10721925  0.10419802]\n"
          ],
          "name": "stdout"
        },
        {
          "output_type": "display_data",
          "data": {
            "image/png": "[encoded data removed]",
            "text/plain": [
              "<Figure size 432x288 with 1 Axes>"
            ]
          },
          "metadata": {
            "tags": [],
            "needs_background": "light"
          }
        }
      ]
    },
    {
      "cell_type": "markdown",
      "metadata": {
        "id": "G0exvwBbShBE"
      },
      "source": [
        "## 2. Manipulation"
      ]
    },
    {
      "cell_type": "code",
      "metadata": {
        "id": "HgQmRXzMShBE",
        "outputId": "72cd172c-7d6e-4d31-e02f-5fff59b1a59f"
      },
      "source": [
        "X = np.ones([2, 3, 4])\n",
        "X"
      ],
      "execution_count": null,
      "outputs": [
        {
          "output_type": "execute_result",
          "data": {
            "text/plain": [
              "array([[[1., 1., 1., 1.],\n",
              "        [1., 1., 1., 1.],\n",
              "        [1., 1., 1., 1.]],\n",
              "\n",
              "       [[1., 1., 1., 1.],\n",
              "        [1., 1., 1., 1.],\n",
              "        [1., 1., 1., 1.]]])"
            ]
          },
          "metadata": {
            "tags": []
          },
          "execution_count": 11
        }
      ]
    },
    {
      "cell_type": "code",
      "metadata": {
        "id": "O-wDF4vEShBE",
        "outputId": "64d0bf8e-d25c-406f-d29f-c4316910e756"
      },
      "source": [
        "Y = X.reshape(-1, 3, 2)\n",
        "Y"
      ],
      "execution_count": null,
      "outputs": [
        {
          "output_type": "execute_result",
          "data": {
            "text/plain": [
              "array([[[1., 1.],\n",
              "        [1., 1.],\n",
              "        [1., 1.]],\n",
              "\n",
              "       [[1., 1.],\n",
              "        [1., 1.],\n",
              "        [1., 1.]],\n",
              "\n",
              "       [[1., 1.],\n",
              "        [1., 1.],\n",
              "        [1., 1.]],\n",
              "\n",
              "       [[1., 1.],\n",
              "        [1., 1.],\n",
              "        [1., 1.]]])"
            ]
          },
          "metadata": {
            "tags": []
          },
          "execution_count": 22
        }
      ]
    }
  ]
}