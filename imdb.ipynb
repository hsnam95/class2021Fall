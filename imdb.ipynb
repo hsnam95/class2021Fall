{
  "nbformat": 4,
  "nbformat_minor": 0,
  "metadata": {
    "kernelspec": {
      "display_name": "Python 3",
      "language": "python",
      "name": "python3"
    },
    "language_info": {
      "codemirror_mode": {
        "name": "ipython",
        "version": 3
      },
      "file_extension": ".py",
      "mimetype": "text/x-python",
      "name": "python",
      "nbconvert_exporter": "python",
      "pygments_lexer": "ipython3",
      "version": "3.7.1"
    },
    "colab": {
      "name": "imdb.ipynb",
      "provenance": [],
      "include_colab_link": true
    }
  },
  "cells": [
    {
      "cell_type": "markdown",
      "metadata": {
        "id": "view-in-github",
        "colab_type": "text"
      },
      "source": [
        "<a href=\"https://colab.research.google.com/github/hsnam95/class2021Fall/blob/main/imdb.ipynb\" target=\"_parent\"><img src=\"https://colab.research.google.com/assets/colab-badge.svg\" alt=\"Open In Colab\"/></a>"
      ]
    },
    {
      "cell_type": "markdown",
      "metadata": {
        "id": "3wUiMg5aqasN"
      },
      "source": [
        "### Import modules"
      ]
    },
    {
      "cell_type": "code",
      "metadata": {
        "id": "XZirN6wLqasO"
      },
      "source": [
        "# TensorFlow and tf.keras\n",
        "import tensorflow\n",
        "from tensorflow.keras.models import Sequential\n",
        "from tensorflow.keras.layers import Dense, Embedding, GlobalAveragePooling1D\n",
        "from tensorflow.keras.preprocessing.sequence import pad_sequences\n",
        "\n",
        "# Helper libraries\n",
        "import numpy as np\n",
        "import matplotlib.pyplot as plt"
      ],
      "execution_count": 1,
      "outputs": []
    },
    {
      "cell_type": "markdown",
      "metadata": {
        "id": "IX_fmonfqasQ"
      },
      "source": [
        "### load data \n",
        "- #### dataset (x: imdb article -> y: text type)\n",
        "- #### word2idx dict (key: word; value: index)"
      ]
    },
    {
      "cell_type": "code",
      "metadata": {
        "id": "QOcbnMDVqasQ",
        "colab": {
          "base_uri": "https://localhost:8080/"
        },
        "outputId": "2c88c220-195f-4cba-afc6-ce3777ad462b"
      },
      "source": [
        "vocab_size = 10000\n",
        "(x_train, y_train), (x_test, y_test) = tensorflow.keras.datasets.imdb.load_data(num_words=vocab_size)\n",
        "word2idx = tensorflow.keras.datasets.imdb.get_word_index()"
      ],
      "execution_count": 2,
      "outputs": [
        {
          "output_type": "stream",
          "name": "stdout",
          "text": [
            "Downloading data from https://storage.googleapis.com/tensorflow/tf-keras-datasets/imdb.npz\n",
            "17465344/17464789 [==============================] - 0s 0us/step\n",
            "17473536/17464789 [==============================] - 0s 0us/step\n",
            "Downloading data from https://storage.googleapis.com/tensorflow/tf-keras-datasets/imdb_word_index.json\n",
            "1646592/1641221 [==============================] - 0s 0us/step\n",
            "1654784/1641221 [==============================] - 0s 0us/step\n"
          ]
        }
      ]
    },
    {
      "cell_type": "markdown",
      "metadata": {
        "id": "IxpMWdMxqasQ"
      },
      "source": [
        "### modifiy word2idx dict (to reflect x_train, x_text)"
      ]
    },
    {
      "cell_type": "code",
      "metadata": {
        "id": "xaD8MwAgqasQ"
      },
      "source": [
        "word2idx = {k:v+3 for k, v in word2idx.items()} # word2idx의 value값 전부에 3을 더해 준다\n",
        "word2idx['<PAD>'] = 0\n",
        "word2idx['<START>'] = 1\n",
        "word2idx['<UNK>'] = 2\n",
        "word2idx['<UNUSED>'] = 3"
      ],
      "execution_count": 3,
      "outputs": []
    },
    {
      "cell_type": "markdown",
      "metadata": {
        "id": "d20WBkM1qasR"
      },
      "source": [
        "### create idx2word: inverse of word2idx"
      ]
    },
    {
      "cell_type": "code",
      "metadata": {
        "id": "abuhGcRbqasR",
        "colab": {
          "base_uri": "https://localhost:8080/"
        },
        "outputId": "5e2c6303-47d2-409d-d73b-8267d1834eb4"
      },
      "source": [
        "idx2word = {v:k for k, v in word2idx.items()}\n",
        "\n",
        "trainID = 100\n",
        "print(' '.join([idx2word[idx] for idx in x_train[trainID]]))"
      ],
      "execution_count": 21,
      "outputs": [
        {
          "output_type": "stream",
          "name": "stdout",
          "text": [
            "<START> i am a great fan of david lynch and have everything that he's made on dvd except for hotel room the 2 hour twin peaks movie so when i found out about this i immediately grabbed it and and what is this it's a bunch of <UNK> drawn black and white cartoons that are loud and foul mouthed and unfunny maybe i don't know what's good but maybe this is just a bunch of crap that was <UNK> on the public under the name of david lynch to make a few bucks too let me make it clear that i didn't care about the foul language part but had to keep <UNK> the sound because my neighbors might have all in all this is a highly disappointing release and may well have just been left in the <UNK> box set as a curiosity i highly recommend you don't spend your money on this 2 out of 10 <PAD> <PAD> <PAD> <PAD> <PAD> <PAD> <PAD> <PAD> <PAD> <PAD> <PAD> <PAD> <PAD> <PAD> <PAD> <PAD> <PAD> <PAD> <PAD> <PAD> <PAD> <PAD> <PAD> <PAD> <PAD> <PAD> <PAD> <PAD> <PAD> <PAD> <PAD> <PAD> <PAD> <PAD> <PAD> <PAD> <PAD> <PAD> <PAD> <PAD> <PAD> <PAD> <PAD> <PAD> <PAD> <PAD> <PAD> <PAD> <PAD> <PAD> <PAD> <PAD> <PAD> <PAD> <PAD> <PAD> <PAD> <PAD> <PAD> <PAD> <PAD> <PAD> <PAD> <PAD> <PAD> <PAD> <PAD> <PAD> <PAD> <PAD> <PAD> <PAD> <PAD> <PAD> <PAD> <PAD> <PAD> <PAD> <PAD> <PAD> <PAD> <PAD> <PAD> <PAD> <PAD> <PAD> <PAD> <PAD> <PAD> <PAD> <PAD> <PAD> <PAD> <PAD> <PAD> <PAD> <PAD> <PAD>\n"
          ]
        }
      ]
    },
    {
      "cell_type": "markdown",
      "metadata": {
        "id": "K6tTlLqjqasR"
      },
      "source": [
        "### padding x_train, x_test"
      ]
    },
    {
      "cell_type": "code",
      "metadata": {
        "id": "F20AwoFSqasR",
        "colab": {
          "base_uri": "https://localhost:8080/"
        },
        "outputId": "763551f9-1724-42a2-99e4-686aea81e799"
      },
      "source": [
        "# orignal x: 서로 다른 길이의 단어 index list (25000 개)\n",
        "# padded x: 25000 x 256 array 인데 256은 한 문장당 fixed된 단어의 갯수\n",
        "\n",
        "x_train = pad_sequences(x_train, value=word2idx['<PAD>'], padding='post', maxlen=256)\n",
        "x_test = pad_sequences(x_test, value=word2idx['<PAD>'], padding='post', maxlen=256)\n",
        "\n",
        "print(x_train.shape)\n",
        "print(x_test.shape)"
      ],
      "execution_count": 11,
      "outputs": [
        {
          "output_type": "stream",
          "name": "stdout",
          "text": [
            "(25000, 256)\n",
            "(25000, 256)\n"
          ]
        }
      ]
    },
    {
      "cell_type": "markdown",
      "metadata": {
        "id": "-5v-02dLqasR"
      },
      "source": [
        "### create model"
      ]
    },
    {
      "cell_type": "code",
      "metadata": {
        "id": "gM15YpdPqasS"
      },
      "source": [
        "model = Sequential()\n",
        "model.add(Embedding(vocab_size, 128))\n",
        "model.add(GlobalAveragePooling1D())\n",
        "model.add(Dense(1, activation='sigmoid'))"
      ],
      "execution_count": 6,
      "outputs": []
    },
    {
      "cell_type": "code",
      "metadata": {
        "id": "Plngn7RPqasT",
        "colab": {
          "base_uri": "https://localhost:8080/"
        },
        "outputId": "77555796-d3b4-496d-b624-e6e003a3495d"
      },
      "source": [
        "model.summary()"
      ],
      "execution_count": 7,
      "outputs": [
        {
          "output_type": "stream",
          "name": "stdout",
          "text": [
            "Model: \"sequential\"\n",
            "_________________________________________________________________\n",
            " Layer (type)                Output Shape              Param #   \n",
            "=================================================================\n",
            " embedding (Embedding)       (None, None, 128)         1280000   \n",
            "                                                                 \n",
            " global_average_pooling1d (G  (None, 128)              0         \n",
            " lobalAveragePooling1D)                                          \n",
            "                                                                 \n",
            " dense (Dense)               (None, 1)                 129       \n",
            "                                                                 \n",
            "=================================================================\n",
            "Total params: 1,280,129\n",
            "Trainable params: 1,280,129\n",
            "Non-trainable params: 0\n",
            "_________________________________________________________________\n"
          ]
        }
      ]
    },
    {
      "cell_type": "code",
      "metadata": {
        "scrolled": true,
        "id": "CzQIQlwGqasT",
        "colab": {
          "base_uri": "https://localhost:8080/"
        },
        "outputId": "d8c6a098-5036-4866-d701-22aa81aba754"
      },
      "source": [
        "Adam = tensorflow.keras.optimizers.Adam\n",
        "model.compile(optimizer = Adam(lr=0.0005), loss='binary_crossentropy', metrics=['accuracy'])"
      ],
      "execution_count": 8,
      "outputs": [
        {
          "output_type": "stream",
          "name": "stderr",
          "text": [
            "/usr/local/lib/python3.7/dist-packages/keras/optimizer_v2/adam.py:105: UserWarning: The `lr` argument is deprecated, use `learning_rate` instead.\n",
            "  super(Adam, self).__init__(name, **kwargs)\n"
          ]
        }
      ]
    },
    {
      "cell_type": "code",
      "metadata": {
        "id": "OBiZ-rSgqasT",
        "colab": {
          "base_uri": "https://localhost:8080/"
        },
        "outputId": "c132f6e6-67b0-40c2-a625-e6eb34d1d060"
      },
      "source": [
        "print(model.input_shape)\n",
        "print(model.output_shape)"
      ],
      "execution_count": 9,
      "outputs": [
        {
          "output_type": "stream",
          "name": "stdout",
          "text": [
            "(None, None)\n",
            "(None, 1)\n"
          ]
        }
      ]
    },
    {
      "cell_type": "markdown",
      "metadata": {
        "id": "3BMbIZERqasT"
      },
      "source": [
        "### train model"
      ]
    },
    {
      "cell_type": "code",
      "metadata": {
        "scrolled": false,
        "id": "C5v3mshOqasT",
        "colab": {
          "base_uri": "https://localhost:8080/"
        },
        "outputId": "7f497045-8c64-4ab2-e0c4-52372e7efd1f"
      },
      "source": [
        "history = model.fit(x_train, y_train, epochs=10, validation_split=0.33)"
      ],
      "execution_count": 12,
      "outputs": [
        {
          "output_type": "stream",
          "name": "stdout",
          "text": [
            "Epoch 1/10\n",
            "524/524 [==============================] - 11s 19ms/step - loss: 0.6550 - accuracy: 0.7056 - val_loss: 0.5866 - val_accuracy: 0.7888\n",
            "Epoch 2/10\n",
            "524/524 [==============================] - 10s 19ms/step - loss: 0.5056 - accuracy: 0.8256 - val_loss: 0.4439 - val_accuracy: 0.8406\n",
            "Epoch 3/10\n",
            "524/524 [==============================] - 10s 18ms/step - loss: 0.3867 - accuracy: 0.8697 - val_loss: 0.3678 - val_accuracy: 0.8641\n",
            "Epoch 4/10\n",
            "524/524 [==============================] - 10s 19ms/step - loss: 0.3208 - accuracy: 0.8896 - val_loss: 0.3302 - val_accuracy: 0.8737\n",
            "Epoch 5/10\n",
            "524/524 [==============================] - 10s 19ms/step - loss: 0.2806 - accuracy: 0.9009 - val_loss: 0.3071 - val_accuracy: 0.8806\n",
            "Epoch 6/10\n",
            "524/524 [==============================] - 9s 18ms/step - loss: 0.2512 - accuracy: 0.9115 - val_loss: 0.2934 - val_accuracy: 0.8846\n",
            "Epoch 7/10\n",
            "524/524 [==============================] - 9s 18ms/step - loss: 0.2282 - accuracy: 0.9208 - val_loss: 0.2855 - val_accuracy: 0.8853\n",
            "Epoch 8/10\n",
            "524/524 [==============================] - 10s 18ms/step - loss: 0.2087 - accuracy: 0.9273 - val_loss: 0.2806 - val_accuracy: 0.8875\n",
            "Epoch 9/10\n",
            "524/524 [==============================] - 9s 17ms/step - loss: 0.1921 - accuracy: 0.9333 - val_loss: 0.2761 - val_accuracy: 0.8895\n",
            "Epoch 10/10\n",
            "524/524 [==============================] - 9s 17ms/step - loss: 0.1776 - accuracy: 0.9399 - val_loss: 0.2756 - val_accuracy: 0.8902\n"
          ]
        }
      ]
    },
    {
      "cell_type": "code",
      "metadata": {
        "id": "RNhKzFfWqasU",
        "colab": {
          "base_uri": "https://localhost:8080/",
          "height": 573
        },
        "outputId": "367fe37c-b2b8-4377-c679-88ef03480eb4"
      },
      "source": [
        "# summarize history for accuracy\n",
        "plt.plot(history.history['accuracy'])\n",
        "plt.plot(history.history['val_accuracy'])\n",
        "plt.title('model accuracy')\n",
        "plt.ylabel('accuracy')\n",
        "plt.xlabel('epoch')\n",
        "plt.legend(['train', 'test'], loc='upper left')\n",
        "plt.show()\n",
        "# summarize history for loss\n",
        "plt.plot(history.history['loss'])\n",
        "plt.plot(history.history['val_loss'])\n",
        "plt.title('model loss')\n",
        "plt.ylabel('loss')\n",
        "plt.xlabel('epoch')\n",
        "plt.legend(['train', 'test'], loc='upper left')\n",
        "plt.show()"
      ],
      "execution_count": 19,
      "outputs": [
        {
          "output_type": "display_data",
          "data": {
            "image/png": "[encoded data removed]",
            "text/plain": [
              "<Figure size 432x288 with 1 Axes>"
            ]
          },
          "metadata": {
            "needs_background": "light"
          }
        },
        {
          "output_type": "display_data",
          "data": {
            "image/png": "[encoded data removed]",
            "text/plain": [
              "<Figure size 432x288 with 1 Axes>"
            ]
          },
          "metadata": {
            "needs_background": "light"
          }
        }
      ]
    },
    {
      "cell_type": "markdown",
      "metadata": {
        "id": "QpPU7eDjqasU"
      },
      "source": [
        "### test model"
      ]
    },
    {
      "cell_type": "code",
      "metadata": {
        "scrolled": true,
        "id": "BflhCNvNqasU",
        "colab": {
          "base_uri": "https://localhost:8080/"
        },
        "outputId": "a806b25b-3b60-4d28-a5fa-d648a7ae1538"
      },
      "source": [
        "model.evaluate(x_test, y_test)"
      ],
      "execution_count": 20,
      "outputs": [
        {
          "output_type": "stream",
          "name": "stdout",
          "text": [
            "782/782 [==============================] - 2s 2ms/step - loss: 0.2886 - accuracy: 0.8814\n"
          ]
        },
        {
          "output_type": "execute_result",
          "data": {
            "text/plain": [
              "[0.288612961769104, 0.8813599944114685]"
            ]
          },
          "metadata": {},
          "execution_count": 20
        }
      ]
    },
    {
      "cell_type": "markdown",
      "metadata": {
        "id": "KCxZyf1pqasU"
      },
      "source": [
        "### inference"
      ]
    },
    {
      "cell_type": "code",
      "metadata": {
        "id": "wWYBVw0NqasU",
        "colab": {
          "base_uri": "https://localhost:8080/"
        },
        "outputId": "23d82141-1d45-4004-f8a9-377b1371b473"
      },
      "source": [
        "testID = 20000\n",
        "print(' '.join([idx2word[idx] for idx in x_test[testID]]))\n",
        "\n",
        "out = model.predict(x_test[testID].reshape(1,256))\n",
        "print(y_test[testID])\n",
        "print(out)"
      ],
      "execution_count": 68,
      "outputs": [
        {
          "output_type": "stream",
          "name": "stdout",
          "text": [
            "<START> the concept of this movie is pretty compelling zombie children climbing out of an abandoned mine to seek revenge for their deaths in the backwoods of <UNK> cool the problem i had with the movie is the lack of creativity when dealing with the zombies the makers could have really <UNK> this film up with some terror like imagery a la the ring such as stop action reverse camera walking or stuff like that when the zombie children are <UNK> through the woods they look like a bunch of 9 year olds walking to a <UNK> in west philadelphia instead of pick <UNK> and <UNK> they could have easily been carrying baseball bats and <UNK> why would i fear these little kids anyone could just run away in a straight line to safety also who in their right mind would have stayed one night with their children in that creepy run down house the moment i opened that front door and looked around i would have said <UNK> hmm <UNK> hmm son go start the car i'm going around back to pee on a bush and then we're out of here totally unbelievable movie don't waste your time <PAD> <PAD> <PAD> <PAD> <PAD> <PAD> <PAD> <PAD> <PAD> <PAD> <PAD> <PAD> <PAD> <PAD> <PAD> <PAD> <PAD> <PAD> <PAD> <PAD> <PAD> <PAD> <PAD> <PAD> <PAD> <PAD> <PAD> <PAD> <PAD> <PAD> <PAD> <PAD> <PAD> <PAD> <PAD> <PAD> <PAD> <PAD> <PAD> <PAD> <PAD> <PAD> <PAD> <PAD> <PAD> <PAD> <PAD> <PAD> <PAD> <PAD> <PAD> <PAD> <PAD> <PAD> <PAD> <PAD> <PAD>\n",
            "0\n",
            "[[0.01149741]]\n"
          ]
        }
      ]
    },
    {
      "cell_type": "code",
      "metadata": {
        "id": "Y7wwaJ-Ag7dQ",
        "outputId": "c8cf39db-7a54-4137-fd47-e98aaf64ddb1",
        "colab": {
          "base_uri": "https://localhost:8080/"
        }
      },
      "source": [
        "text = 'this is a lovely movie i want to watch it again i was amazed by the grand war scene'\n",
        "text = text.lower()\n",
        "words = text.split()\n",
        "indices = np.zeros(256, dtype = int)\n",
        "\n",
        "for i in range(len(words)):\n",
        "  indices[i] = word2idx[words[i]]\n",
        "\n",
        "model.predict(indices.reshape(1,256))"
      ],
      "execution_count": 67,
      "outputs": [
        {
          "output_type": "execute_result",
          "data": {
            "text/plain": [
              "array([[0.70049286]], dtype=float32)"
            ]
          },
          "metadata": {},
          "execution_count": 67
        }
      ]
    }
  ]
}